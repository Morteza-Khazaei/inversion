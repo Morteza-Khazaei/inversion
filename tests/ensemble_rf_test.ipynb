{
 "cells": [
  {
   "cell_type": "code",
   "execution_count": 1,
   "id": "7e834ae6",
   "metadata": {},
   "outputs": [],
   "source": [
    "from inversion import RegressionRF"
   ]
  },
  {
   "cell_type": "code",
   "execution_count": 2,
   "id": "109377be",
   "metadata": {},
   "outputs": [
    {
     "data": {
      "text/html": [
       "\n",
       "            <style>\n",
       "                .geemap-dark {\n",
       "                    --jp-widgets-color: white;\n",
       "                    --jp-widgets-label-color: white;\n",
       "                    --jp-ui-font-color1: white;\n",
       "                    --jp-layout-color2: #454545;\n",
       "                    background-color: #383838;\n",
       "                }\n",
       "\n",
       "                .geemap-dark .jupyter-button {\n",
       "                    --jp-layout-color3: #383838;\n",
       "                }\n",
       "\n",
       "                .geemap-colab {\n",
       "                    background-color: var(--colab-primary-surface-color, white);\n",
       "                }\n",
       "\n",
       "                .geemap-colab .jupyter-button {\n",
       "                    --jp-layout-color3: var(--colab-primary-surface-color, white);\n",
       "                }\n",
       "            </style>\n",
       "            "
      ],
      "text/plain": [
       "<IPython.core.display.HTML object>"
      ]
     },
     "metadata": {},
     "output_type": "display_data"
    }
   ],
   "source": [
    "import pandas as pd"
   ]
  },
  {
   "cell_type": "code",
   "execution_count": 3,
   "id": "060a93f3",
   "metadata": {},
   "outputs": [
    {
     "data": {
      "text/html": [
       "\n",
       "            <style>\n",
       "                .geemap-dark {\n",
       "                    --jp-widgets-color: white;\n",
       "                    --jp-widgets-label-color: white;\n",
       "                    --jp-ui-font-color1: white;\n",
       "                    --jp-layout-color2: #454545;\n",
       "                    background-color: #383838;\n",
       "                }\n",
       "\n",
       "                .geemap-dark .jupyter-button {\n",
       "                    --jp-layout-color3: #383838;\n",
       "                }\n",
       "\n",
       "                .geemap-colab {\n",
       "                    background-color: var(--colab-primary-surface-color, white);\n",
       "                }\n",
       "\n",
       "                .geemap-colab .jupyter-button {\n",
       "                    --jp-layout-color3: var(--colab-primary-surface-color, white);\n",
       "                }\n",
       "            </style>\n",
       "            "
      ],
      "text/plain": [
       "<IPython.core.display.HTML object>"
      ]
     },
     "metadata": {},
     "output_type": "display_data"
    },
    {
     "name": "stdout",
     "output_type": "stream",
     "text": [
      "(4533, 36)\n"
     ]
    },
    {
     "data": {
      "text/html": [
       "<div>\n",
       "<style scoped>\n",
       "    .dataframe tbody tr th:only-of-type {\n",
       "        vertical-align: middle;\n",
       "    }\n",
       "\n",
       "    .dataframe tbody tr th {\n",
       "        vertical-align: top;\n",
       "    }\n",
       "\n",
       "    .dataframe thead th {\n",
       "        text-align: right;\n",
       "    }\n",
       "</style>\n",
       "<table border=\"1\" class=\"dataframe\">\n",
       "  <thead>\n",
       "    <tr style=\"text-align: right;\">\n",
       "      <th></th>\n",
       "      <th>date</th>\n",
       "      <th>station</th>\n",
       "      <th>depth</th>\n",
       "      <th>op</th>\n",
       "      <th>mean_sst</th>\n",
       "      <th>mean_airt</th>\n",
       "      <th>SSM</th>\n",
       "      <th>SST</th>\n",
       "      <th>year</th>\n",
       "      <th>doy</th>\n",
       "      <th>...</th>\n",
       "      <th>BBCH</th>\n",
       "      <th>cum_SSM</th>\n",
       "      <th>d</th>\n",
       "      <th>c</th>\n",
       "      <th>w</th>\n",
       "      <th>vvv</th>\n",
       "      <th>vvs</th>\n",
       "      <th>s</th>\n",
       "      <th>l</th>\n",
       "      <th>rvi</th>\n",
       "    </tr>\n",
       "  </thead>\n",
       "  <tbody>\n",
       "    <tr>\n",
       "      <th>0</th>\n",
       "      <td>2015-04-25</td>\n",
       "      <td>MB1</td>\n",
       "      <td>0 to 5 cm</td>\n",
       "      <td>0</td>\n",
       "      <td>10.185</td>\n",
       "      <td>7.835</td>\n",
       "      <td>0.130000</td>\n",
       "      <td>14.977778</td>\n",
       "      <td>2015</td>\n",
       "      <td>115</td>\n",
       "      <td>...</td>\n",
       "      <td>0.0</td>\n",
       "      <td>0.130000</td>\n",
       "      <td>0.542218</td>\n",
       "      <td>0.222963</td>\n",
       "      <td>0.038395</td>\n",
       "      <td>-15.194094</td>\n",
       "      <td>-17.016249</td>\n",
       "      <td>0.002823</td>\n",
       "      <td>0.075</td>\n",
       "      <td>0.665350</td>\n",
       "    </tr>\n",
       "    <tr>\n",
       "      <th>1</th>\n",
       "      <td>2015-04-25</td>\n",
       "      <td>MB10</td>\n",
       "      <td>0 to 5 cm</td>\n",
       "      <td>0</td>\n",
       "      <td>7.500</td>\n",
       "      <td>7.840</td>\n",
       "      <td>0.432222</td>\n",
       "      <td>12.633333</td>\n",
       "      <td>2015</td>\n",
       "      <td>115</td>\n",
       "      <td>...</td>\n",
       "      <td>0.0</td>\n",
       "      <td>0.562222</td>\n",
       "      <td>0.542231</td>\n",
       "      <td>0.299597</td>\n",
       "      <td>0.016298</td>\n",
       "      <td>-22.695383</td>\n",
       "      <td>-23.349850</td>\n",
       "      <td>0.000855</td>\n",
       "      <td>0.075</td>\n",
       "      <td>0.665350</td>\n",
       "    </tr>\n",
       "    <tr>\n",
       "      <th>2</th>\n",
       "      <td>2015-04-25</td>\n",
       "      <td>MB11</td>\n",
       "      <td>0 to 5 cm</td>\n",
       "      <td>0</td>\n",
       "      <td>8.635</td>\n",
       "      <td>8.380</td>\n",
       "      <td>0.272222</td>\n",
       "      <td>12.577778</td>\n",
       "      <td>2015</td>\n",
       "      <td>115</td>\n",
       "      <td>...</td>\n",
       "      <td>0.0</td>\n",
       "      <td>0.834444</td>\n",
       "      <td>0.229864</td>\n",
       "      <td>0.387900</td>\n",
       "      <td>0.000163</td>\n",
       "      <td>-17.819667</td>\n",
       "      <td>-16.328337</td>\n",
       "      <td>0.002806</td>\n",
       "      <td>0.075</td>\n",
       "      <td>0.547228</td>\n",
       "    </tr>\n",
       "    <tr>\n",
       "      <th>3</th>\n",
       "      <td>2015-04-25</td>\n",
       "      <td>MB12</td>\n",
       "      <td>0 to 5 cm</td>\n",
       "      <td>0</td>\n",
       "      <td>5.350</td>\n",
       "      <td>8.015</td>\n",
       "      <td>0.310000</td>\n",
       "      <td>14.266667</td>\n",
       "      <td>2015</td>\n",
       "      <td>115</td>\n",
       "      <td>...</td>\n",
       "      <td>0.0</td>\n",
       "      <td>1.144444</td>\n",
       "      <td>0.300336</td>\n",
       "      <td>0.295008</td>\n",
       "      <td>0.000308</td>\n",
       "      <td>-15.625036</td>\n",
       "      <td>-14.471887</td>\n",
       "      <td>0.003311</td>\n",
       "      <td>0.075</td>\n",
       "      <td>0.363636</td>\n",
       "    </tr>\n",
       "    <tr>\n",
       "      <th>4</th>\n",
       "      <td>2015-04-25</td>\n",
       "      <td>MB2</td>\n",
       "      <td>0 to 5 cm</td>\n",
       "      <td>0</td>\n",
       "      <td>13.265</td>\n",
       "      <td>8.305</td>\n",
       "      <td>0.340000</td>\n",
       "      <td>15.955556</td>\n",
       "      <td>2015</td>\n",
       "      <td>115</td>\n",
       "      <td>...</td>\n",
       "      <td>0.0</td>\n",
       "      <td>1.484444</td>\n",
       "      <td>0.300859</td>\n",
       "      <td>0.235136</td>\n",
       "      <td>0.000298</td>\n",
       "      <td>-12.331738</td>\n",
       "      <td>-11.711022</td>\n",
       "      <td>0.004551</td>\n",
       "      <td>0.075</td>\n",
       "      <td>0.363636</td>\n",
       "    </tr>\n",
       "  </tbody>\n",
       "</table>\n",
       "<p>5 rows × 36 columns</p>\n",
       "</div>"
      ],
      "text/plain": [
       "        date station      depth  op  mean_sst  mean_airt       SSM        SST  \\\n",
       "0 2015-04-25     MB1  0 to 5 cm   0    10.185      7.835  0.130000  14.977778   \n",
       "1 2015-04-25    MB10  0 to 5 cm   0     7.500      7.840  0.432222  12.633333   \n",
       "2 2015-04-25    MB11  0 to 5 cm   0     8.635      8.380  0.272222  12.577778   \n",
       "3 2015-04-25    MB12  0 to 5 cm   0     5.350      8.015  0.310000  14.266667   \n",
       "4 2015-04-25     MB2  0 to 5 cm   0    13.265      8.305  0.340000  15.955556   \n",
       "\n",
       "   year  doy  ... BBCH   cum_SSM         d         c         w        vvv  \\\n",
       "0  2015  115  ...  0.0  0.130000  0.542218  0.222963  0.038395 -15.194094   \n",
       "1  2015  115  ...  0.0  0.562222  0.542231  0.299597  0.016298 -22.695383   \n",
       "2  2015  115  ...  0.0  0.834444  0.229864  0.387900  0.000163 -17.819667   \n",
       "3  2015  115  ...  0.0  1.144444  0.300336  0.295008  0.000308 -15.625036   \n",
       "4  2015  115  ...  0.0  1.484444  0.300859  0.235136  0.000298 -12.331738   \n",
       "\n",
       "         vvs         s      l       rvi  \n",
       "0 -17.016249  0.002823  0.075  0.665350  \n",
       "1 -23.349850  0.000855  0.075  0.665350  \n",
       "2 -16.328337  0.002806  0.075  0.547228  \n",
       "3 -14.471887  0.003311  0.075  0.363636  \n",
       "4 -11.711022  0.004551  0.075  0.363636  \n",
       "\n",
       "[5 rows x 36 columns]"
      ]
     },
     "execution_count": 3,
     "metadata": {},
     "output_type": "execute_result"
    }
   ],
   "source": [
    "# Load df from CSV\n",
    "inv_df = pd.read_csv(\"../assets/outputs/inv_df.csv\", parse_dates=['date'])\n",
    "\n",
    "print(inv_df.shape)\n",
    "inv_df.head()"
   ]
  },
  {
   "cell_type": "code",
   "execution_count": 4,
   "id": "bf5c5cbe",
   "metadata": {},
   "outputs": [
    {
     "data": {
      "text/html": [
       "\n",
       "            <style>\n",
       "                .geemap-dark {\n",
       "                    --jp-widgets-color: white;\n",
       "                    --jp-widgets-label-color: white;\n",
       "                    --jp-ui-font-color1: white;\n",
       "                    --jp-layout-color2: #454545;\n",
       "                    background-color: #383838;\n",
       "                }\n",
       "\n",
       "                .geemap-dark .jupyter-button {\n",
       "                    --jp-layout-color3: #383838;\n",
       "                }\n",
       "\n",
       "                .geemap-colab {\n",
       "                    background-color: var(--colab-primary-surface-color, white);\n",
       "                }\n",
       "\n",
       "                .geemap-colab .jupyter-button {\n",
       "                    --jp-layout-color3: var(--colab-primary-surface-color, white);\n",
       "                }\n",
       "            </style>\n",
       "            "
      ],
      "text/plain": [
       "<IPython.core.display.HTML object>"
      ]
     },
     "metadata": {},
     "output_type": "display_data"
    },
    {
     "name": "stdout",
     "output_type": "stream",
     "text": [
      "\t🔄 Training ensemble model for SSM.\n",
      "\tR2: 0.4383344233956866\n",
      "\tMAE: 0.06445737628397369\n",
      "\tMSE: 0.0071163420369801\n",
      "\tRMSE: 0.08435841414453037\n",
      "\tUBRMSE: 0.08433956458200782\n",
      "\tBias: -0.0017832226718588733\n",
      "\n",
      "\t🔄 Training ensemble model for vvs.\n",
      "\tR2: 0.8757989485908702\n",
      "\tMAE: 0.7853338454257525\n",
      "\tMSE: 3.9605082951471284\n",
      "\tRMSE: 1.9901025840762905\n",
      "\tUBRMSE: 1.9894850103147184\n",
      "\tBias: -0.04957508325937489\n",
      "\n",
      "\t🔄 Training ensemble model for s.\n",
      "\tR2: 0.7429210870842771\n",
      "\tMAE: 0.0005496569557210139\n",
      "\tMSE: 1.2746429730892008e-06\n",
      "\tRMSE: 0.0011290008738212742\n",
      "\tUBRMSE: 0.0011278307384416223\n",
      "\tBias: -5.138870026986083e-05\n",
      "\n"
     ]
    }
   ],
   "source": [
    "ensrf = RegressionRF(workspace_dir='../assets', df=inv_df)\n",
    "rf_models = ensrf.run(vars=['SSM', 'vvs', 's'])"
   ]
  },
  {
   "cell_type": "code",
   "execution_count": null,
   "id": "40fdc20f",
   "metadata": {},
   "outputs": [
    {
     "data": {
      "text/html": [
       "\n",
       "            <style>\n",
       "                .geemap-dark {\n",
       "                    --jp-widgets-color: white;\n",
       "                    --jp-widgets-label-color: white;\n",
       "                    --jp-ui-font-color1: white;\n",
       "                    --jp-layout-color2: #454545;\n",
       "                    background-color: #383838;\n",
       "                }\n",
       "\n",
       "                .geemap-dark .jupyter-button {\n",
       "                    --jp-layout-color3: #383838;\n",
       "                }\n",
       "\n",
       "                .geemap-colab {\n",
       "                    background-color: var(--colab-primary-surface-color, white);\n",
       "                }\n",
       "\n",
       "                .geemap-colab .jupyter-button {\n",
       "                    --jp-layout-color3: var(--colab-primary-surface-color, white);\n",
       "                }\n",
       "            </style>\n",
       "            "
      ],
      "text/plain": [
       "<IPython.core.display.HTML object>"
      ]
     },
     "metadata": {},
     "output_type": "display_data"
    },
    {
     "name": "stdout",
     "output_type": "stream",
     "text": [
      "Earth Engine initialized.\n"
     ]
    }
   ],
   "source": [
    "passed = ensrf.upload_rf_to_gee(rf_models, gee_project_id='ee-mortezakhazaei1370', save_dectree=True)"
   ]
  }
 ],
 "metadata": {
  "kernelspec": {
   "display_name": "Python 3",
   "language": "python",
   "name": "python3"
  },
  "language_info": {
   "codemirror_mode": {
    "name": "ipython",
    "version": 3
   },
   "file_extension": ".py",
   "mimetype": "text/x-python",
   "name": "python",
   "nbconvert_exporter": "python",
   "pygments_lexer": "ipython3",
   "version": "3.11.2"
  }
 },
 "nbformat": 4,
 "nbformat_minor": 5
}
